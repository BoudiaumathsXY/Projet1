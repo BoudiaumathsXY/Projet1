{
 "cells": [
  {
   "cell_type": "code",
   "execution_count": 1,
   "id": "65ed1079-f6ba-4ae0-83b0-3d815163f5b1",
   "metadata": {},
   "outputs": [
    {
     "name": "stdout",
     "output_type": "stream",
     "text": [
      "« Bienvenue dans le monde Python ! Commençons à coder »\n"
     ]
    }
   ],
   "source": [
    "print(\"« Bienvenue dans le monde Python ! Commençons à coder »\")"
   ]
  }
 ],
 "metadata": {
  "kernelspec": {
   "display_name": "Python 3 (ipykernel)",
   "language": "python",
   "name": "python3"
  },
  "language_info": {
   "codemirror_mode": {
    "name": "ipython",
    "version": 3
   },
   "file_extension": ".py",
   "mimetype": "text/x-python",
   "name": "python",
   "nbconvert_exporter": "python",
   "pygments_lexer": "ipython3",
   "version": "3.12.4"
  }
 },
 "nbformat": 4,
 "nbformat_minor": 5
}
